{
 "cells": [
  {
   "cell_type": "markdown",
   "metadata": {
    "slideshow": {
     "slide_type": "slide"
    }
   },
   "source": [
    "# Blind Image Deconvolution (BID) Demonstration"
   ]
  },
  {
   "cell_type": "markdown",
   "metadata": {
    "slideshow": {
     "slide_type": "slide"
    }
   },
   "source": [
    "This notebook gives a demonstration of one type of Blind Image Deconvolution using the modified Davey Algorithm.\n",
    "\n",
    "We begin with some housekeeping (Python imports)"
   ]
  },
  {
   "cell_type": "code",
   "execution_count": null,
   "metadata": {
    "slideshow": {
     "slide_type": "fragment"
    }
   },
   "outputs": [],
   "source": [
    "import imageio                                                # Image file I/O\n",
    "import numpy as np                                            # Matrix support, FFT etc\n",
    "import math\n",
    "from scipy import signal                                      # Signal processing library\n",
    "from IPython.display import Math                              # LaTex support\n",
    "import matplotlib.pyplot as plot                              # Plots\n",
    "\n",
    "from modifiedDaveyDeblur import bid_davey, InitialEstimate    # Blind image deconvolution"
   ]
  },
  {
   "cell_type": "markdown",
   "metadata": {
    "slideshow": {
     "slide_type": "slide"
    }
   },
   "source": [
    "Next, import our image of choice..."
   ]
  },
  {
   "cell_type": "code",
   "execution_count": null,
   "metadata": {
    "slideshow": {
     "slide_type": "fragment"
    }
   },
   "outputs": [],
   "source": [
    "image_name = 'src_images/star.bmp'\n",
    "\n",
    "\n",
    "# Load and show source image\n",
    "src_img = imageio.imread(image_name)\n",
    "print \"Source image dimensions:\", src_img.shape\n",
    "\n",
    "plot.figure(figsize=(5,5))\n",
    "plot.title('Source Image')\n",
    "plot.xlabel('X')\n",
    "plot.ylabel('Y')\n",
    "plot.imshow(src_img)"
   ]
  },
  {
   "cell_type": "markdown",
   "metadata": {
    "slideshow": {
     "slide_type": "slide"
    }
   },
   "source": [
    "Next, we add some 'atmospheric blurring'. This is achieved by running the source image through a circular (pillbox) filter. The larger the blur kernel, the smoother the image becomes.\n",
    "\n",
    "<img src=\"img/blurring.png\" width=\"600\">\n",
    "\n",
    "If:\n",
    "* f(x,y) is our source image before blurring\n",
    "* h(x,y) is the effective transfer function modelling the blurring mechanism (Point Spread Function)\n",
    "* g(x,y) is our blurred image\n",
    "\n",
    "\n",
    "then the blurred image is the result of the 2D-convolution of each RGB colour channel with the PSF:"
   ]
  },
  {
   "cell_type": "code",
   "execution_count": null,
   "metadata": {
    "slideshow": {
     "slide_type": "subslide"
    }
   },
   "outputs": [],
   "source": [
    "Math(r'g(x,y) =  f(x,y) \\otimes h(x,y)')"
   ]
  },
  {
   "cell_type": "code",
   "execution_count": null,
   "metadata": {},
   "outputs": [],
   "source": [
    "# Create circular filter PSF\n",
    "r = 10\n",
    "y,x = np.ogrid[-r: r+1, -r: r+1]\n",
    "psf = x**2+y**2 <= r**2\n",
    "psf = psf.astype(float) / np.sum(psf)\n",
    "\n",
    "\n",
    "blur_img = np.zeros((src_img.shape[0] + 2*r, src_img.shape[1] + 2*r, src_img.shape[2]))\n",
    "print \"Blurred image dimensions:\", blur_img.shape\n",
    "\n",
    "for ch in range(src_img.shape[2]):    \n",
    "    blur_img[:,:,ch] = signal.convolve2d(src_img[:,:,ch], psf, mode ='full', boundary = 'fill', fillvalue = 0)\n",
    "\n",
    "    \n",
    "# Plot before and after blurring    \n",
    "plot.figure(figsize=(10,10))\n",
    "plot.subplot(1, 2, 1)\n",
    "plot.title('Original Image - f(x,y)')\n",
    "plot.xlabel('X')\n",
    "plot.ylabel('Y')\n",
    "plot.imshow(src_img)\n",
    "\n",
    "plot.subplot(1, 2, 2)\n",
    "plot.title('Blurred Image')\n",
    "plot.xlabel('X')\n",
    "plot.ylabel('Y')\n",
    "plot.imshow(blur_img/np.max(blur_img))\n"
   ]
  },
  {
   "cell_type": "markdown",
   "metadata": {
    "slideshow": {
     "slide_type": "slide"
    }
   },
   "source": [
    "Realisitically some noise is added to the system during the capture process. This manifests from things like:\n",
    "-  electronic noise\n",
    "-  thermal noise at the CCD camera\n",
    "-  quantisation noise\n",
    "\n",
    "We model this by using an additive unknown noise term n(x,y), with the properites of being a zero-mean Gaussian random variable.\n",
    "\n",
    "![image.png](img/1d_gaussian.jpg)\n",
    "\n",
    "so we now have:"
   ]
  },
  {
   "cell_type": "code",
   "execution_count": null,
   "metadata": {
    "slideshow": {
     "slide_type": "subslide"
    }
   },
   "outputs": [],
   "source": [
    "Math(r'g(x,y) =  f(x,y) \\otimes h(x,y) + n(x,y)')"
   ]
  },
  {
   "cell_type": "code",
   "execution_count": null,
   "metadata": {},
   "outputs": [],
   "source": [
    "# Add Gaussian noise to the observed image\n",
    "mu, sigma = 0, 0.1\n",
    "scale = 0.0\n",
    "noise = scale * np.multiply(np.random.normal(mu, sigma, blur_img.shape), blur_img)\n",
    "\n",
    "noisyBlur_img = np.add(blur_img, noise)\n",
    "noisyBlur_img = np.round(noisyBlur_img, 0).astype(np.uint8)\n",
    "imageio.imsave( '_blurred.'.join(image_name.rsplit('.', 1)), (np.divide(noisyBlur_img, np.max(noisyBlur_img))*255).astype(np.uint8))\n",
    "\n",
    "# Plot noisy, blurred image\n",
    "plot.figure(figsize=(5,5))\n",
    "plot.title('Noisy-Blurred  Image')\n",
    "plot.xlabel('X')\n",
    "plot.ylabel('Y')\n",
    "plot.imshow(noisyBlur_img)"
   ]
  },
  {
   "cell_type": "markdown",
   "metadata": {
    "slideshow": {
     "slide_type": "slide"
    }
   },
   "source": [
    "We can define the signal to noise ratio (SNR) as:"
   ]
  },
  {
   "cell_type": "code",
   "execution_count": null,
   "metadata": {
    "slideshow": {
     "slide_type": "subslide"
    }
   },
   "outputs": [],
   "source": [
    "Math(r'SNR(dB) = 20\\log_{10}  \\Bigg(   \\frac {A_{signal}} {A_{noise}} \\Bigg)')"
   ]
  },
  {
   "cell_type": "code",
   "execution_count": null,
   "metadata": {},
   "outputs": [],
   "source": [
    "Math(r'SNR (dB) = P(dB)_{signal} - P (dB)_{noise}')"
   ]
  },
  {
   "cell_type": "code",
   "execution_count": null,
   "metadata": {},
   "outputs": [],
   "source": [
    "def power(image):\n",
    "    return 20*np.log10( np.sqrt(np.mean(np.square(image))) )\n",
    "\n",
    "signalPower = power(blur_img)\n",
    "noisePower  = power(noise)\n",
    "snr         = signalPower - noisePower\n",
    "print(\"SNR = {0} dB\".format(snr))\n"
   ]
  },
  {
   "cell_type": "code",
   "execution_count": null,
   "metadata": {},
   "outputs": [],
   "source": [
    " \n",
    "# Plot before and after blurring    \n",
    "plot.figure(figsize=(15,15))\n",
    "plot.subplot(2, 3, 1)\n",
    "plot.imshow(src_img)\n",
    "plot.title('Original Image - f(x,y)')\n",
    "plot.xlabel('X')\n",
    "plot.ylabel('Y')\n",
    "\n",
    "plot.subplot(2, 3, 2)\n",
    "plot.imshow(blur_img/np.max(blur_img))\n",
    "plot.title('Blurred Image - g(x,y) (Support + Frame)')\n",
    "plot.xlabel('X')\n",
    "plot.ylabel('Y')\n",
    "\n",
    "plot.subplot(2, 3, 3)\n",
    "plot.imshow(noisyBlur_img)\n",
    "plot.title('Noisy Blurred Image - g(x,y) (Support + Frame)')\n",
    "plot.xlabel('X')\n",
    "plot.ylabel('Y')\n",
    "\n",
    "\n",
    "# Show PSF\n",
    "psfplot = np.zeros((src_img.shape[0], src_img.shape[1]))\n",
    "nb = psfplot.shape[0]\n",
    "na = psf.shape[0]\n",
    "lower = (nb) // 2 - (na // 2)\n",
    "upper = (nb) // 2 + math.ceil(float(na) / 2)\n",
    "psfplot[lower:int(upper), lower:int(upper)] = psf\n",
    "\n",
    "plot.subplot(2, 3, 4)\n",
    "plot.imshow(psf, cmap='gray')\n",
    "plot.title('Point Spread Function - h(x,y)')\n",
    "plot.xlabel('X')\n",
    "plot.ylabel('Y')\n",
    "\n",
    "plot.subplot(2, 3, 5)\n",
    "plot.imshow(psfplot, cmap='gray')\n",
    "plot.title('Point Spread Function (Scale) - h(x,y)')\n",
    "plot.xlabel('X')\n",
    "plot.ylabel('Y')"
   ]
  },
  {
   "cell_type": "markdown",
   "metadata": {
    "slideshow": {
     "slide_type": "slide"
    }
   },
   "source": [
    "Next we apply the Davey Blind image deconvolution algorithm to iteratively 'deblur' the noisy image...\n",
    "\n",
    "<img src=\"img/davey_algorithm_flow.png\" width=\"600\">\n",
    "\n"
   ]
  },
  {
   "cell_type": "code",
   "execution_count": null,
   "metadata": {
    "slideshow": {
     "slide_type": "fragment"
    }
   },
   "outputs": [],
   "source": [
    "# BID iterations\n",
    "iterations = 2000\n",
    "save_snapshots = True  # True / False\n",
    "\n",
    "(restored_img, restored_psf, image_mse, psf_mse, mse_min, mse_min_iterations) = bid_davey(src_img, psfplot, noisyBlur_img, psf.shape, iterations, InitialEstimate.BLURRED_IMAGE, save_snapshots)\n",
    "\n",
    "imageio.imsave( '_restored.'.join(image_name.rsplit('.', 1))  , restored_img) # Save the result\n",
    "\n",
    "\n",
    "\n",
    "print \"Results:\"\n",
    "print \"--------\"\n",
    "print \"Minimum MSE of %d occurs at iteration# %d.\" % (math.ceil(mse_min), mse_min_iterations)\n",
    "\n",
    "# Plot recovered image\n",
    "plot.figure(figsize=(20,20))\n",
    "plot.subplot(1, 3, 1)\n",
    "plot.imshow(src_img)\n",
    "plot.title('Original Image - f(x,y)')\n",
    "plot.xlabel('X')\n",
    "plot.ylabel('Y')\n",
    "\n",
    "plot.subplot(1, 3, 2)\n",
    "plot.imshow(noisyBlur_img)\n",
    "plot.title('Blurred Image - g(x,y)')\n",
    "plot.xlabel('X')\n",
    "plot.ylabel('Y')\n",
    "\n",
    "plot.subplot(1, 3, 3)\n",
    "plot.imshow(restored_img)\n",
    "plot.title('Restored Image - f^(x,y)')\n",
    "plot.xlabel('X')\n",
    "plot.ylabel('Y')\n",
    "\n",
    "\n",
    "# Plot recovered PSF\n",
    "plot.figure(figsize=(10,10))\n",
    "plot.subplot(1, 2, 1)\n",
    "plot.imshow(psfplot, cmap='gray')\n",
    "plot.title('Original PSF - h(x,y)')\n",
    "plot.xlabel('X')\n",
    "plot.ylabel('Y')\n",
    "\n",
    "plot.subplot(1, 2, 2)\n",
    "plot.imshow(restored_psf, cmap='gray')\n",
    "plot.title('Restored PSF - h^(x,y)')\n",
    "plot.xlabel('X')\n",
    "plot.ylabel('Y')\n",
    "\n",
    "\n",
    "# Plot MSE\n",
    "plot.figure(figsize=(10,5))\n",
    "plot.subplot(1, 2, 1)\n",
    "plot.plot(image_mse[:,1])\n",
    "plot.title('f^(x,y) Mean-Squared Error')\n",
    "plot.xlabel('Iteration')\n",
    "plot.ylabel('MSE')\n",
    "\n",
    "plot.subplot(1, 2, 2)\n",
    "plot.plot(psf_mse[:,1])\n",
    "plot.title('h^(x,y) Mean-Squared Error')\n",
    "plot.xlabel('Iteration')\n",
    "plot.ylabel('MSE')\n",
    "\n"
   ]
  }
 ],
 "metadata": {
  "celltoolbar": "Slideshow",
  "kernelspec": {
   "display_name": "Python 2",
   "language": "python",
   "name": "python2"
  },
  "language_info": {
   "codemirror_mode": {
    "name": "ipython",
    "version": 2
   },
   "file_extension": ".py",
   "mimetype": "text/x-python",
   "name": "python",
   "nbconvert_exporter": "python",
   "pygments_lexer": "ipython2",
   "version": "2.7.14"
  }
 },
 "nbformat": 4,
 "nbformat_minor": 2
}
